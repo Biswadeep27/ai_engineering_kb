{
 "cells": [
  {
   "cell_type": "code",
   "execution_count": 0,
   "metadata": {
    "application/vnd.databricks.v1+cell": {
     "cellMetadata": {},
     "inputWidgets": {},
     "nuid": "0f58095f-cb25-4469-a97b-812e7f95a765",
     "showTitle": false,
     "tableResultSettingsMap": {},
     "title": ""
    }
   },
   "outputs": [],
   "source": [
    "from openai import OpenAI\n",
    "\n",
    "client = OpenAI(api_key=DATABRICKS_TOKEN, base_url=DATABRICKS_BASE_URL)\n",
    "\n",
    "tools = [{\n",
    "    \"type\": \"function\",\n",
    "    \"function\": {\n",
    "        \"name\": \"enterprise_search\",\n",
    "        \"description\": \"Search internal documents using keywords.\",\n",
    "        \"parameters\": {\n",
    "            \"type\": \"object\",\n",
    "            \"properties\": {\"keywords\": {\"type\": \"string\"}},\n",
    "            \"required\": [\"keywords\"]\n",
    "        }\n",
    "    }\n",
    "}]\n",
    "\n",
    "messages = [{\"role\": \"user\", \"content\": \"Find documents about Q4 sales strategy.\"}]\n",
    "\n",
    "resp = client.chat.completions.create(\n",
    "    model=\"databricks-claude-3-7-sonnet\",\n",
    "    messages=messages,\n",
    "    tools=tools,\n",
    ")\n",
    "\n",
    "print(resp.choices[0].message.tool_calls)"
   ]
  },
  {
   "cell_type": "code",
   "execution_count": 0,
   "metadata": {
    "application/vnd.databricks.v1+cell": {
     "cellMetadata": {},
     "inputWidgets": {},
     "nuid": "806b5cd7-8efb-4de7-93dd-1cb1be3e126f",
     "showTitle": false,
     "tableResultSettingsMap": {},
     "title": ""
    }
   },
   "outputs": [],
   "source": [
    "%sql\n",
    "SELECT\n",
    "  contract_id,\n",
    "  ai_query(\n",
    "    'databricks-claude-3-7-sonnet',\n",
    "    \"For the following contract, do the following:\n",
    "    1. Identify and summarize risk-related clauses. Classify each risk as low, medium, or high severity, and cite supporting sections.\n",
    "    2. Based on identified risks, generate 2-3 mitigation recommendations, referencing relevant internal policies from our knowledge base.\n",
    "\n",
    "    Contract Text:\n",
    "    \" || contract_text\n",
    "  ) AS risk_and_recommendations\n",
    "FROM legal_contracts\n",
    "WHERE contract_type = 'vendor';"
   ]
  }
 ],
 "metadata": {
  "application/vnd.databricks.v1+notebook": {
   "computePreferences": null,
   "dashboards": [],
   "environmentMetadata": {
    "base_environment": "",
    "environment_version": "2"
   },
   "inputWidgetPreferences": null,
   "language": "python",
   "notebookMetadata": {
    "pythonIndentUnit": 2
   },
   "notebookName": "claude-sonnet-3.7",
   "widgets": {}
  },
  "language_info": {
   "name": "python"
  }
 },
 "nbformat": 4,
 "nbformat_minor": 0
}
