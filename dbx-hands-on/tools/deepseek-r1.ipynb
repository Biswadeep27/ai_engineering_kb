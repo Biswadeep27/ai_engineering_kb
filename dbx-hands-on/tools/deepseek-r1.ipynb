{
 "cells": [
  {
   "cell_type": "code",
   "execution_count": 0,
   "metadata": {
    "application/vnd.databricks.v1+cell": {
     "cellMetadata": {},
     "inputWidgets": {},
     "nuid": "4b20c628-03f3-4092-8c8b-75bbfc0fa374",
     "showTitle": false,
     "tableResultSettingsMap": {},
     "title": ""
    }
   },
   "outputs": [],
   "source": [
    "from transformers import AutoTokenizer, AutoModelForCausalLM\n",
    "\n",
    "tokenizer = AutoTokenizer.from_pretrained(\"deepseek-ai/DeepSeek-R1-Distill-Llama-8B\")\n",
    "model = AutoModelForCausalLM.from_pretrained(\"deepseek-ai/DeepSeek-R1-Distill-Llama-8B\")"
   ]
  },
  {
   "cell_type": "code",
   "execution_count": 0,
   "metadata": {
    "application/vnd.databricks.v1+cell": {
     "cellMetadata": {},
     "inputWidgets": {},
     "nuid": "16f12d5e-7550-4446-9707-7226266ffb25",
     "showTitle": false,
     "tableResultSettingsMap": {},
     "title": ""
    }
   },
   "outputs": [],
   "source": [
    "transformers_model = {\"model\": model, \"tokenizer\": tokenizer}\n",
    "task = \"llm/v1/chat\"\n",
    "\n",
    "my_uc_catalog = \"uc_catalog_name\"\n",
    "my_uc_schema = \"uc_schema_name\"\n",
    "uc_model_name = \"deepseek_r1_distilled_llama_8b\"\n",
    "\n",
    "\n",
    "with mlflow.start_run():\n",
    "   model_info = mlflow.transformers.log_model(\n",
    "       transformers_model=transformers_model,\n",
    "       artifact_path=\"model\",\n",
    "       task=task,\n",
    "       registered_model_name=f\"{my_uc_catalog}.{my_uc_schema}.{uc_model_name}\"\n",
    ",\n",
    "       metadata={\n",
    "        \"pretrained_model_name\": \"meta-llama/Llama-3.1-8B-Instruct\",\n",
    "           \"databricks_model_family\": \"LlamaForCausalLM\",\n",
    "           \"databricks_model_size_parameters\": \"8b\",\n",
    "       },\n",
    "   )"
   ]
  }
 ],
 "metadata": {
  "application/vnd.databricks.v1+notebook": {
   "computePreferences": null,
   "dashboards": [],
   "environmentMetadata": {
    "base_environment": "",
    "environment_version": "2"
   },
   "inputWidgetPreferences": null,
   "language": "python",
   "notebookMetadata": {
    "pythonIndentUnit": 2
   },
   "notebookName": "deepseek-r1",
   "widgets": {}
  },
  "language_info": {
   "name": "python"
  }
 },
 "nbformat": 4,
 "nbformat_minor": 0
}
