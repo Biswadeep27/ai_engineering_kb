{
 "cells": [
  {
   "cell_type": "code",
   "execution_count": 0,
   "metadata": {
    "application/vnd.databricks.v1+cell": {
     "cellMetadata": {},
     "inputWidgets": {},
     "nuid": "03c227d5-4632-486e-ba78-1324eb6cf29f",
     "showTitle": false,
     "tableResultSettingsMap": {},
     "title": ""
    }
   },
   "outputs": [],
   "source": [
    "import mlflow\n",
    "\n",
    "guidelines = {\n",
    "    \"english\": [\"The response must be in English\"],\n",
    "    \"clarity\": [\"The response must be clear, coherent, and concise\"],\n",
    "}\n",
    "eval_set = [\n",
    "    {\n",
    "        \"request\": \"What is the capital of England?\",\n",
    "        \"response\": \"The capital of England is London.\",\n",
    "    },\n",
    "    {\n",
    "        \"request\": \"What is the capital of France?\",\n",
    "        \"response\": \"La capitale de la France est Paris.\",\n",
    "    },\n",
    "    {\n",
    "        \"request\": \"What is the capital of the USA?\",\n",
    "        \"response\": \"The capital of the United States of America, commonly referred to as the USA, is Washington, D.C. This city, which is not part of any state and is instead a federal district, was founded on July 16, 1790. It is named after George Washington, the first President of the United States, and Christopher Columbus, the explorer after whom the Americas are named. Washington, D.C. serves as the political hub of the country, housing the three branches of the federal government: the Executive, led by the President; the Legislative, consisting of the Congress; and the Judicial, headed by the Supreme Court. Additionally, it is home to numerous national monuments and museums, primarily situated on or around the National Mall. The city plays a pivotal role in the nation's history and governance, making it a significant location not only for its political importance but also for its cultural and historical heritage.\",\n",
    "    },\n",
    "]\n",
    "\n",
    "mlflow.evaluate(\n",
    "    data=eval_set,\n",
    "    model_type=\"databricks-agent\",\n",
    "    evaluator_config={\n",
    "        \"databricks-agent\": {\n",
    "            \"metrics\": [\"guideline_adherence\"],\n",
    "            \"global_guidelines\": guidelines,\n",
    "        }\n",
    "    },\n",
    ")"
   ]
  },
  {
   "cell_type": "code",
   "execution_count": 0,
   "metadata": {
    "application/vnd.databricks.v1+cell": {
     "cellMetadata": {},
     "inputWidgets": {},
     "nuid": "26adeecc-bc1d-458c-9b57-3ac1d60e2521",
     "showTitle": false,
     "tableResultSettingsMap": {},
     "title": ""
    }
   },
   "outputs": [],
   "source": [
    "import mlflow\n",
    "from databricks.agents.evals import metric\n",
    "from mlflow.evaluation import Assessment\n",
    "\n",
    "eval_set = [\n",
    "    {\n",
    "        \"request\": \"What is the capital of England?\",\n",
    "        \"response\": \"The capital of England is London.\",\n",
    "    },\n",
    "    {\n",
    "        \"request\": \"What is the capital of France?\",\n",
    "        \"response\": \"\",\n",
    "    },\n",
    "    \n",
    "]\n",
    "\n",
    "# Example custom metric\n",
    "@metric\n",
    "def not_empty(response):\n",
    "    # \"yes\" for Pass and \"no\" for Fail.\n",
    "    score = \"yes\" if response and response.strip() != \"\" else \"no\"\n",
    "    rationale = \"The response is empty\" if score == \"no\" else \"The response is not empty\"\n",
    "    return Assessment(name=\"not_empty\", value=score, rationale=rationale)\n",
    "\n",
    "# Call the metric with mlflow.evaluate(...)\n",
    "with mlflow.start_run(run_name=\"example_run\"):\n",
    "    eval_results = mlflow.evaluate(\n",
    "        data=eval_set,\n",
    "        model_type=\"databricks-agent\",\n",
    "        extra_metrics=[not_empty],\n",
    "    )"
   ]
  }
 ],
 "metadata": {
  "application/vnd.databricks.v1+notebook": {
   "computePreferences": null,
   "dashboards": [],
   "environmentMetadata": {
    "base_environment": "",
    "environment_version": "2"
   },
   "inputWidgetPreferences": null,
   "language": "python",
   "notebookMetadata": {
    "pythonIndentUnit": 2
   },
   "notebookName": "enhanced-agent-evaluation",
   "widgets": {}
  },
  "language_info": {
   "name": "python"
  }
 },
 "nbformat": 4,
 "nbformat_minor": 0
}
